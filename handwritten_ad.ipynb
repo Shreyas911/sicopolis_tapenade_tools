{
 "cells": [
  {
   "cell_type": "code",
   "execution_count": 1,
   "metadata": {},
   "outputs": [],
   "source": [
    "import numpy as np"
   ]
  },
  {
   "cell_type": "markdown",
   "metadata": {},
   "source": [
    "### Normal forward mode with tape used for adjoint"
   ]
  },
  {
   "cell_type": "code",
   "execution_count": 56,
   "metadata": {},
   "outputs": [
    {
     "data": {
      "text/plain": [
       "(40.25,\n",
       " [array([1., 3., 3.]),\n",
       "  array([ 2., 10., 10.]),\n",
       "  array([ 6.,  6., 10.]),\n",
       "  array([6., 8., 8.])])"
      ]
     },
     "execution_count": 56,
     "metadata": {},
     "output_type": "execute_result"
    }
   ],
   "source": [
    "def forward(x0 = np.array([1, 3, 3])):\n",
    "    \n",
    "    x = np.zeros(3)\n",
    "    tape = []\n",
    "    for i in range(3):\n",
    "        x[i] = x0[i]\n",
    "\n",
    "    y = x[0]**2\n",
    "    \n",
    "    tape.append(np.copy(x))\n",
    "\n",
    "    for i in range(3):\n",
    "\n",
    "        x[i] = y + x[i]**2 \n",
    "\n",
    "    # Convective adjustment\n",
    "\n",
    "    for i in range(2):\n",
    "\n",
    "        tape.append(np.copy(x))\n",
    "\n",
    "        if (x[i] < x[i+1]):\n",
    "            x[i] = 0.5*(x[i] + x[i+1])\n",
    "            x[i+1] = x[i]\n",
    "\n",
    "    tape.append(np.copy(x))\n",
    "\n",
    "    fc = (x[0]-5.5)**2 + 2.*x[1] + 3.*x[2]\n",
    "\n",
    "    return fc, tape\n",
    "\n",
    "forward()"
   ]
  },
  {
   "cell_type": "code",
   "execution_count": 34,
   "metadata": {
    "scrolled": true
   },
   "outputs": [
    {
     "data": {
      "text/plain": [
       "15.516759002245806"
      ]
     },
     "execution_count": 34,
     "metadata": {},
     "output_type": "execute_result"
    }
   ],
   "source": [
    "(forward(x0 = np.array([1.001, 3, 3]))[0] - forward(x0 = np.array([1, 3, 3]))[0])/0.001"
   ]
  },
  {
   "cell_type": "code",
   "execution_count": 35,
   "metadata": {},
   "outputs": [
    {
     "data": {
      "text/plain": [
       "10.510753000247064"
      ]
     },
     "execution_count": 35,
     "metadata": {},
     "output_type": "execute_result"
    }
   ],
   "source": [
    "(forward(x0 = np.array([1, 3.001, 3]))[0] - forward(x0 = np.array([1, 3, 3]))[0])/0.001"
   ]
  },
  {
   "cell_type": "code",
   "execution_count": 36,
   "metadata": {},
   "outputs": [
    {
     "data": {
      "text/plain": [
       "15.002499999994257"
      ]
     },
     "execution_count": 36,
     "metadata": {},
     "output_type": "execute_result"
    }
   ],
   "source": [
    "(forward(x0 = np.array([1, 3, 3.001]))[0] - forward(x0 = np.array([1, 3, 3]))[0])/0.001"
   ]
  },
  {
   "cell_type": "markdown",
   "metadata": {},
   "source": [
    "### Tangent linear mode"
   ]
  },
  {
   "cell_type": "code",
   "execution_count": 31,
   "metadata": {},
   "outputs": [
    {
     "data": {
      "text/plain": [
       "(15.5, 10.5, 15.0)"
      ]
     },
     "execution_count": 31,
     "metadata": {},
     "output_type": "execute_result"
    }
   ],
   "source": [
    "def forward_d(x0 = np.array([1, 3, 3]), x0d = [1, 0, 0]):\n",
    "\n",
    "    x = np.zeros(3)\n",
    "    xd = np.zeros(3)\n",
    "    \n",
    "\n",
    "    \n",
    "    for i in range(3):\n",
    "        \n",
    "        # [xd[i]]  = [0. 1.] [xd]\n",
    "        # [x0d[i]] = [0. 1.] [x0d[i]] \n",
    "    \n",
    "        xd[i] = x0d[i]\n",
    "        x[i] = x0[i]\n",
    "\n",
    "    # [yd]    = [0. 2*x[0]] [yd]\n",
    "    # [xd[0]] = [0.     1.] [xd[0]] \n",
    "    yd = 2*x[0]*xd[0]\n",
    "    y = x[0]**2\n",
    "    \n",
    "    for i in range(3):\n",
    "\n",
    "        # [xd[i]]  = [2*x[i]  1.] [xd[i]]\n",
    "        # [yd]     = [0.      1.] [yd]\n",
    "        \n",
    "        xd[i] = yd + 2*x[i]*xd[i]\n",
    "        x[i] = y + x[i]**2 \n",
    "        \n",
    "    # Convective adjustment\n",
    "\n",
    "    for i in range(2):\n",
    "\n",
    "        if (x[i] < x[i+1]):\n",
    "            \n",
    "            # [xd[i]]   = [0.5 0.5] [xd[i]]\n",
    "            # [xd[i+1]] = [0.   1.] [xd[i+1]]\n",
    "        \n",
    "            xd[i] = 0.5*(xd[i] + xd[i+1])\n",
    "            x[i] = 0.5*(x[i] + x[i+1])\n",
    "\n",
    "            # [xd[i]]   = [1. 0.] [xd[i]]\n",
    "            # [xd[i+1]] = [1. 0.] [xd[i+1]]\n",
    "            \n",
    "            xd[i+1] = xd[i]\n",
    "            x[i+1] = x[i]\n",
    "\n",
    "    # [xd[0]] = [1.           0. 0. 0.] [xd[0]]\n",
    "    # [xd[1]] = [0.           1. 0. 0.] [xd[1]]\n",
    "    # [xd[2]] = [0.           0. 1. 0.] [xd[2]]\n",
    "    # [fcd]   = [2*(x[0]-5.5) 2. 3. 0.] [fcd]\n",
    "    fcd = 2*(x[0]-5.5)*xd[0] + 2.*xd[1] + 3.*xd[2]\n",
    "    fc = (x[0]-5.5)**2 + 2.*x[1] + 3.*x[2]\n",
    "\n",
    "\n",
    "    return fcd\n",
    "\n",
    "forward_d(x0d = [1, 0, 0]), forward_d(x0d = [0, 1, 0]), forward_d(x0d = [0, 0, 1])"
   ]
  },
  {
   "cell_type": "code",
   "execution_count": 65,
   "metadata": {},
   "outputs": [],
   "source": [
    "_, tape = forward(x0 = np.array([1, 3, 3]))\n",
    "\n",
    "def forward_b(x0 = np.array([1, 3, 3]), tape = tape):\n",
    "    \n",
    "    xb = np.zeros(3)\n",
    "    x0b = np.zeros(3)\n",
    "    yb = 0.0\n",
    "    \n",
    "    fcb = 1.0\n",
    "    \n",
    "    # [xb[0]] = [1. 0. 0. 2*(x[0]-5.5)] [xb[0]]\n",
    "    # [xb[1]] = [0. 1. 0. 2.          ] [xb[1]]\n",
    "    # [xb[2]] = [0. 0. 1. 3.          ] [xb[2]]\n",
    "    # [fcb]   = [0. 0. 0. 0.          ] [fcb] \n",
    "    \n",
    "    x = tape.pop()\n",
    "    \n",
    "    xb[0] = xb[0] +  2*(x[0]-5.5) * fcb\n",
    "    xb[1] = xb[1] +  2.           * fcb\n",
    "    xb[2] = xb[2] +  3.           * fcb\n",
    "    \n",
    "    for i in range(1,-1,-1):\n",
    "        \n",
    "        x = tape.pop()\n",
    "        \n",
    "        if (x[i] < x[i+1]):\n",
    "        \n",
    "            # [xb[i]]   = [1. 1.] [xb[i]]\n",
    "            # [xb[i+1]] = [0. 0.] [xb[i+1]]\n",
    "\n",
    "            xb[i] = xb[i] + xb[i+1]\n",
    "            xb[i+1] = 0.\n",
    "\n",
    "            # [xb[i]]   = [0.5 0.] [xb[i]]\n",
    "            # [xb[i+1]] = [0.5 1.] [xb[i+1]]   \n",
    "\n",
    "            xb[i+1] = 0.5*xb[i] + xb[i+1]\n",
    "            xb[i]   = 0.5*xb[i]\n",
    "            \n",
    "    x = tape.pop()\n",
    "    \n",
    "    for i in range(2,-1,-1):\n",
    "\n",
    "        # [xb[i]]  = [2*x[i] 0.] [xb[i]]\n",
    "        # [yb]     = [1.      1.] [yb] \n",
    "        \n",
    "        yb = yb + xb[i]\n",
    "        xb[i] = 2*x[i]*xb[i]\n",
    "        \n",
    "    # [yb]    = [0.     0.] [yb]\n",
    "    # [xb[0]] = [2*x[0] 1.] [xb[0]] \n",
    "    \n",
    "    xb[0] = xb[0] + 2*x[0]*yb\n",
    "    yb    = 0.0\n",
    "\n",
    "    for i in range(2,-1,-1):\n",
    "        \n",
    "        # [xb[i]]  = [0. 0.] [xb]\n",
    "        # [x0b[i]] = [1. 1.] [x0b[i]] \n",
    "    \n",
    "        x0b[i] = x0b[i] + xb[i]\n",
    "        xb[i]  = 0.0\n",
    "        \n",
    "    return x0b"
   ]
  },
  {
   "cell_type": "code",
   "execution_count": 67,
   "metadata": {},
   "outputs": [
    {
     "data": {
      "text/plain": [
       "array([15.5, 10.5, 15. ])"
      ]
     },
     "execution_count": 67,
     "metadata": {},
     "output_type": "execute_result"
    }
   ],
   "source": [
    "_, tape = forward(x0 = np.array([1, 3, 3]))\n",
    "forward_b(x0 = np.array([1, 3, 3]), tape = tape)"
   ]
  }
 ],
 "metadata": {
  "kernelspec": {
   "display_name": "Python 3",
   "language": "python",
   "name": "python3"
  },
  "language_info": {
   "codemirror_mode": {
    "name": "ipython",
    "version": 3
   },
   "file_extension": ".py",
   "mimetype": "text/x-python",
   "name": "python",
   "nbconvert_exporter": "python",
   "pygments_lexer": "ipython3",
   "version": "3.8.3"
  }
 },
 "nbformat": 4,
 "nbformat_minor": 4
}
