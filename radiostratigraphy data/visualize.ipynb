{
 "cells": [
  {
   "cell_type": "code",
   "execution_count": 2,
   "metadata": {},
   "outputs": [],
   "source": [
    "import netCDF4 as nc\n",
    "import numpy as np\n",
    "import matplotlib.pyplot as plt\n",
    "import matplotlib.tri as tri\n",
    "import xarray as xr\n",
    "from scipy.interpolate import interp1d"
   ]
  },
  {
   "cell_type": "code",
   "execution_count": 3,
   "metadata": {},
   "outputs": [],
   "source": [
    "class DataCleaner:\n",
    "    \n",
    "    def __init__(self, ds):\n",
    "        \n",
    "        self.ds = ds\n",
    "        \n",
    "    def clean_entire_nan_columns_non_zero_thick(self, var, thick_var, replace_with = 0.0):\n",
    "    \n",
    "        # For interpolated variables, thick_var has to be some interpolated thickness, otherwise shapes won't match\n",
    "        \n",
    "        variable = self.ds.variables[var]\n",
    "        thick = self.ds.variables[thick_var]\n",
    "        \n",
    "        shape_z, shape_x, shape_y = variable.shape\n",
    "\n",
    "        sum_nan_columns = np.sum(np.isnan(variable), axis = 0)\n",
    "        \n",
    "        for i in range(shape_x):\n",
    "            for j in range(shape_y):\n",
    "                if sum_nan_columns[i,j] == shape_z and thick[i,j] == 0.0:\n",
    "                    variable[:,i,j] = replace_with\n",
    "                    \n",
    "        self.ds.variables[var][:] = variable\n",
    "        \n",
    "        if 'modifications' in self.ds[var].attrs:\n",
    "            \n",
    "            self.ds[var].attrs['modifications'] = self.ds[var].attrs['modifications'] + \\\n",
    "                                                                ', Clear all NaN columns'\n",
    "        else:\n",
    "            \n",
    "            self.ds[var].attrs['modifications'] = 'Clear all NaN columns'\n",
    "                   \n",
    "    def nan_stats(self, var, thick_var):\n",
    "        \n",
    "        # For interpolated variables, thick_var has to be some interpolated thickness, otherwise shapes won't match\n",
    "        \n",
    "        variable = self.ds.variables[var]\n",
    "        shape_z, shape_x, shape_y = variable.shape\n",
    "        num_nan_columns = 0\n",
    "        flag_nan_columns = np.zeros((shape_x, shape_y), dtype = int)\n",
    "        \n",
    "        sum_nan_columns = np.sum(np.isnan(variable), axis = 0)\n",
    "        flag_nan_columns = sum_nan_columns == shape_z\n",
    "        num_nan_columns = np.sum(flag_nan_columns)\n",
    "        \n",
    "        flag_non_zero_thick = self.ds.variables[thick_var] > 0.0\n",
    "\n",
    "        flag_nan_columns_nonzero_thick = np.logical_and(flag_non_zero_thick, flag_nan_columns)\n",
    "        num_nan_columns_nonzero_thick = np.sum(flag_nan_columns_nonzero_thick)\n",
    "        \n",
    "        num_nan_z_levels = np.sum(np.isnan(variable), axis = (1,2))\n",
    "        \n",
    "        flag_nan = np.isnan(variable)\n",
    "        \n",
    "        ### Pad a with 0 at both sides for edge cases when a starts or ends with 1\n",
    "        ### See answer by Psidom - \n",
    "        ### https://stackoverflow.com/questions/54446907/how-to-calculate-numbers-of-uninterrupted-repeats-in-an-array-in-python/54447096#54447096\n",
    "\n",
    "        ### In our case, pad only in the z-dimension\n",
    "        temp = np.pad(flag_nan, pad_width=((1, 1), (0, 0), (0, 0)), mode='constant')\n",
    "        flag_num_nan_patches_columns = np.sum(np.logical_xor(temp[1:], temp[:-1]) == True, axis = 0) / 2\n",
    "        flag_num_nan_patches_columns = flag_num_nan_patches_columns.astype(int)\n",
    "        statsDict = {}\n",
    "        flagsDict = {}\n",
    "        \n",
    "        statsDict['Total NaNs'] = np.count_nonzero(np.isnan(variable))\n",
    "        statsDict['Total NaN columns'] = num_nan_columns\n",
    "        statsDict['Total NaN columns with non-zero ice thickness'] = num_nan_columns_nonzero_thick\n",
    "        statsDict['Total NaN on different z-levels'] = num_nan_z_levels\n",
    "        \n",
    "        flagsDict['Flag for all NaN columns'] = flag_nan_columns\n",
    "        flagsDict['Total NaN in each column'] = sum_nan_columns\n",
    "        flagsDict['Flag for all NaN columns, non-zero thick'] = flag_nan_columns_nonzero_thick\n",
    "        flagsDict['Flag for num of contiguous NaN patches in cols'] = flag_num_nan_patches_columns\n",
    "        \n",
    "        return statsDict, flagsDict\n",
    "    \n",
    "    def clean_middle_nans(self, var, kind = 'linear'):\n",
    "        \n",
    "        def middle_clean_column(z, \n",
    "                                #z_interp,\n",
    "                                var_column, kind = 'linear'):\n",
    "\n",
    "            start = np.where(~np.isnan(var_column))[0][0]\n",
    "            end = np.where(~np.isnan(var_column))[0][-1]\n",
    "\n",
    "            z_middle = z[start:end+1]\n",
    "\n",
    "            var_column_copy = np.copy(var_column)\n",
    "\n",
    "            var_column_middle = var_column_copy[start:end+1]\n",
    "\n",
    "            #z_interp_middle = z_interp[z_interp >= z_middle[0]]\n",
    "            #z_interp_middle = z_interp_middle[z_interp_middle <= z_middle[-1]]\n",
    "\n",
    "            flag_not_nan_middle = ~np.isnan(var_column_middle)\n",
    "\n",
    "            f = interp1d(z_middle[flag_not_nan_middle], var_column_middle[flag_not_nan_middle], kind = kind)\n",
    "\n",
    "            var_column_copy[start:end+1] = f(z_middle) # f(z_interp_middle)\n",
    "\n",
    "            return var_column_copy\n",
    "        \n",
    "        variable_values = self.ds.variables[var].values\n",
    "        \n",
    "        shape_z, shape_x, shape_y = variable_values.shape\n",
    "        \n",
    "        var_middle_clean = var + '_middle_clean'\n",
    "        \n",
    "        for i in range(shape_x):\n",
    "            for j in range(shape_y):\n",
    "                \n",
    "                if np.sum(np.isnan(variable_values[:,i,j])) in [0, shape_z - 1, shape_z]:\n",
    "                    pass\n",
    "                else:\n",
    "                    variable_values[:,i,j] = middle_clean_column(np.arange(shape_z), variable_values[:,i,j])\n",
    "    \n",
    "        self.ds.variables[var][:] = variable_values\n",
    "    \n",
    "        if 'modifications' in self.ds[var].attrs:\n",
    "            \n",
    "            self.ds[var].attrs['modifications'] = self.ds[var].attrs['modifications'] + \\\n",
    "                                                                f', Clean middle columns using {kind} interpolation'\n",
    "        else:\n",
    "            \n",
    "            self.ds[var].attrs['modifications'] = f'Clean middle columns using {kind} interpolation'\n",
    "        "
   ]
  },
  {
   "cell_type": "code",
   "execution_count": 4,
   "metadata": {},
   "outputs": [],
   "source": [
    "class DataInterpolator(DataCleaner):\n",
    "    \n",
    "    def __init__(self, ds, \n",
    "                 model_x, model_y, model_KCMAX, model_exp_a = 2.0,\n",
    "                 method = 'nearest_neighbor'):\n",
    "        \n",
    "        super().__init__(ds)\n",
    "        \n",
    "        self.ds = ds\n",
    "        \n",
    "        self.model_x = model_x\n",
    "        self.model_y = model_y\n",
    "        self.model_KCMAX = model_KCMAX\n",
    "        self.model_exp_a = model_exp_a\n",
    "        self.method = method\n",
    "        \n",
    "        if self.method != 'nearest_neighbor':\n",
    "            raise NotImplementedError(\"Only nearest_neighbor interpolation is available.\")\n",
    "\n",
    "    def expand_dims(self):\n",
    "        \n",
    "        self.ds_expanded = xr.Dataset()\n",
    "        \n",
    "        Dict = {}\n",
    "        Dict['number of model grid points in x-direction'] = self.model_x.shape[0]\n",
    "        Dict['number of model grid points in y-direction'] = self.model_y.shape[0]\n",
    "        Dict['number of vertical model layers'] = self.model_KCMAX + 1\n",
    "        \n",
    "        self.ds_expanded = self.ds_expanded.expand_dims(Dict)\n",
    "\n",
    "    def add_model_variables(self):\n",
    "        \n",
    "        x_model_mesh, y_model_mesh = np.meshgrid(self.model_x, self.model_y)\n",
    "        \n",
    "        self.ds_expanded['x_model'] = (['number of model grid points in x-direction', \n",
    "                               'number of model grid points in y-direction'], x_model_mesh.T)\n",
    "        self.ds_expanded['y_model'] = (['number of model grid points in x-direction', \n",
    "                               'number of model grid points in y-direction'], y_model_mesh.T)\n",
    "        self.ds_expanded['zeta_c_model'] = (['number of vertical model layers'], np.linspace(0.,1.,self.model_KCMAX+1))\n",
    "        \n",
    "        zeta_c_model_exp = (np.exp(self.model_exp_a*self.ds_expanded['zeta_c_model'])-1) \\\n",
    "                          /(np.exp(self.model_exp_a)-1)\n",
    "        \n",
    "        self.ds_expanded['zeta_c_exp_model'] = (['number of vertical model layers'], zeta_c_model_exp.values)\n",
    "        self.ds_expanded['zeta_c_exp_model'].attrs['Exp parameter'] = self.model_exp_a\n",
    "        \n",
    "    def unfreeze_ds(self):\n",
    "        ### ds.dim will show that the dataset is frozen and we cannot add more dimensions\n",
    "        ### Instead we will create a new dataset\n",
    "        \n",
    "        ds_unfrozen = self.ds_expanded.copy()\n",
    "        \n",
    "        ds_unfrozen.attrs = self.ds.attrs\n",
    "\n",
    "        for key, value in self.ds.variables.items():\n",
    "            ds_unfrozen[key] = value\n",
    "\n",
    "        self.ds = ds_unfrozen.copy()        \n",
    "            \n",
    "    def NN_2D(self):\n",
    "        \n",
    "        self.data_x_closest_indices = np.zeros(self.model_x.shape, dtype = int)\n",
    "        self.data_y_closest_indices = np.zeros(self.model_y.shape, dtype = int)\n",
    "    \n",
    "        for i in range(self.model_x.shape[0]):\n",
    "            \n",
    "            self.data_x_closest_indices[i] = np.abs(self.model_x[i] - self.ds['x'][:,0]).argmin()\n",
    "        \n",
    "        for j in range(self.model_y.shape[0]):\n",
    "\n",
    "            self.data_y_closest_indices[j] = np.abs(self.model_y[j] - self.ds['y'][0,:]).argmin()\n",
    "\n",
    "        self.ds['thick_2D_interp'] = (['number of model grid points in x-direction', \n",
    "                                       'number of model grid points in y-direction'], \n",
    "                                      self.ds.variables['thick'].values[np.ix_(self.data_x_closest_indices, self.data_y_closest_indices)])\n",
    "\n",
    "        self.ds['thick_2D_interp'].attrs['Base variable'] = 'thick'\n",
    "\n",
    "        if 'modifications' in self.ds['thick'].attrs:\n",
    "            \n",
    "            self.ds['thick_2D_interp'].attrs['modifications'] = self.ds['thick'].attrs['modifications'] + \\\n",
    "                                                                ', 2D Nearest Neighbor Interpolation'\n",
    "        else:\n",
    "            \n",
    "            self.ds['thick_2D_interp'].attrs['modifications'] = '2D Nearest Neighbor Interpolation'\n",
    "        \n",
    "    def NN_2D_var(self, var):\n",
    "        \n",
    "        variable = self.ds.variables[var]\n",
    "        \n",
    "        shape_z, shape_x, shape_y = variable.shape\n",
    "        \n",
    "        var_interp = var + '_2D_interp'\n",
    "        \n",
    "        variable_interp = variable.values[np.ix_(range(shape_z), self.data_x_closest_indices, self.data_y_closest_indices)] \n",
    "        \n",
    "        self.ds[var_interp] = (['number of vertical layers', \n",
    "                                'number of model grid points in x-direction', \n",
    "                                'number of model grid points in y-direction'], \n",
    "                               variable_interp)\n",
    "        \n",
    "        self.ds[var_interp].attrs['Base variable'] = var\n",
    "        \n",
    "        if 'modifications' in self.ds[var].attrs:\n",
    "            \n",
    "            self.ds[var_interp].attrs['modifications'] = self.ds[var].attrs['modifications'] + \\\n",
    "                                                                ', 2D Nearest Neighbor Interpolation'\n",
    "        else:\n",
    "            \n",
    "            self.ds[var_interp].attrs['modifications'] = '2D Nearest Neighbor Interpolation'\n",
    "            \n",
    "    def z_interpolation_middle_columns(self, var, kind = 'linear'):\n",
    "        \n",
    "        ### Assumed that the middle of the columns have no NaNs\n",
    "\n",
    "        def interp_one_column_middle(z, z_interp, var_column, kind = 'linear'):\n",
    "\n",
    "            var_column_interp = np.empty(len(z_interp))\n",
    "            var_column_interp[:] = np.NaN\n",
    "            \n",
    "            start = np.where(~np.isnan(var_column))[0][0]\n",
    "            end = np.where(~np.isnan(var_column))[0][-1]\n",
    "\n",
    "            z_middle = z[start:end+1]\n",
    "\n",
    "            var_column_middle = var_column[start:end+1]\n",
    "\n",
    "            z_interp_middle = z_interp[z_interp >= z_middle[0]]\n",
    "            start_interp = len(z_interp) - len(z_interp_middle)\n",
    "            z_interp_middle = z_interp_middle[z_interp_middle <= z_middle[-1]]\n",
    "            end_interp = len(z_interp_middle) + start_interp - 1\n",
    "\n",
    "            f = interp1d(z_middle, var_column_middle, kind = kind)\n",
    "\n",
    "            var_column_interp[start_interp:end_interp+1] = f(z_interp_middle)\n",
    "\n",
    "            return var_column_interp\n",
    "        \n",
    "        variable_values = self.ds.variables[var].values\n",
    "        \n",
    "        shape_z, shape_x, shape_y = variable_values.shape\n",
    "        \n",
    "        var_interp = var + f'_z_interp_{kind}'\n",
    "        \n",
    "        variable_interp_values = np.empty((self.model_KCMAX + 1, shape_x, shape_y), dtype = float)\n",
    "        variable_interp_values[:] = np.NaN\n",
    "        \n",
    "        zeta_c_data = np.linspace(0., 1., len(self.ds['number of vertical layers']))\n",
    "        zeta_c_model = self.ds['zeta_c_exp_model'].values\n",
    "        \n",
    "        for i in range(shape_x):\n",
    "            for j in range(shape_y):\n",
    "                \n",
    "                if np.sum(np.isnan(variable_values[:,i,j])) in [shape_z - 1, shape_z]:\n",
    "                    pass\n",
    "                else:\n",
    "                    variable_interp_values[:,i,j] = interp_one_column_middle(zeta_c_data,\n",
    "                                                                            zeta_c_model, \n",
    "                                                                            variable_values[:,i,j], \n",
    "                                                                            kind = kind)\n",
    "        \n",
    "        self.ds[var_interp] = (['number of vertical model layers', \n",
    "                                'number of model grid points in x-direction', \n",
    "                                'number of model grid points in y-direction'], \n",
    "                                variable_interp_values)\n",
    "        \n",
    "        if 'modifications' in self.ds[var].attrs:\n",
    "            \n",
    "            self.ds[var_interp].attrs['modifications'] = self.ds[var].attrs['modifications'] + \\\n",
    "                                                                f', z {kind} interpolation'\n",
    "        else:\n",
    "            \n",
    "            self.ds[var_interp].attrs['modifications'] = f'z {kind} interpolation'\n",
    "        "
   ]
  },
  {
   "cell_type": "code",
   "execution_count": 5,
   "metadata": {},
   "outputs": [],
   "source": [
    "### Reading a netcdf file\n",
    "ds = xr.open_dataset('RRRAG4_Greenland_1993_2013_01_age_grid.nc')"
   ]
  },
  {
   "cell_type": "code",
   "execution_count": 6,
   "metadata": {},
   "outputs": [],
   "source": [
    "x_model_10km = np.arange(-72.,97.,1.)*10\n",
    "y_model_10km = np.arange(-345.,-56.,1.)*10\n",
    "KCMAX = 80\n",
    "\n",
    "DI = DataInterpolator(ds, x_model_10km, y_model_10km, KCMAX)\n",
    "DI.expand_dims()\n",
    "DI.add_model_variables()\n",
    "DI.unfreeze_ds()\n",
    "DI.NN_2D()\n",
    "DI.NN_2D_var('age_norm')\n",
    "#DI.clean_entire_nan_columns_non_zero_thick('age_norm_2D_interp', 'thick_2D_interp')\n",
    "DI.clean_middle_nans('age_norm_2D_interp', kind = 'linear')\n",
    "DI.z_interpolation_middle_columns('age_norm_2D_interp', kind = 'linear')"
   ]
  },
  {
   "cell_type": "code",
   "execution_count": 7,
   "metadata": {
    "scrolled": true
   },
   "outputs": [
    {
     "data": {
      "text/plain": [
       "<matplotlib.collections.PathCollection at 0x2b00275b41f0>"
      ]
     },
     "execution_count": 7,
     "metadata": {},
     "output_type": "execute_result"
    },
    {
     "data": {
      "image/png": "[encoded data removed]",
      "text/plain": [
       "<Figure size 432x288 with 1 Axes>"
      ]
     },
     "metadata": {
      "needs_background": "light"
     },
     "output_type": "display_data"
    }
   ],
   "source": [
    "plt.scatter(DI.ds['zeta_c_exp_model'], DI.ds['age_norm_2D_interp_z_interp_linear'][:,100,180])\n",
    "plt.scatter(np.linspace(0., 1., len(DI.ds['number of vertical layers'])),DI.ds['age_norm_2D_interp'][:,100,180])"
   ]
  },
  {
   "cell_type": "code",
   "execution_count": 8,
   "metadata": {},
   "outputs": [
    {
     "data": {
      "text/plain": [
       "<matplotlib.collections.PathCollection at 0x2b00276a9c40>"
      ]
     },
     "execution_count": 8,
     "metadata": {},
     "output_type": "execute_result"
    },
    {
     "data": {
      "image/png": "[encoded data removed]",
      "text/plain": [
       "<Figure size 432x288 with 1 Axes>"
      ]
     },
     "metadata": {
      "needs_background": "light"
     },
     "output_type": "display_data"
    }
   ],
   "source": [
    "plt.scatter(DI.ds['zeta_c_exp_model'], DI.ds['age_norm_2D_interp_z_interp_linear'][:,75,100])\n",
    "plt.scatter(np.linspace(0., 1., len(DI.ds['number of vertical layers'])),DI.ds['age_norm_2D_interp'][:,75,100])"
   ]
  },
  {
   "cell_type": "code",
   "execution_count": null,
   "metadata": {},
   "outputs": [],
   "source": []
  },
  {
   "cell_type": "code",
   "execution_count": null,
   "metadata": {},
   "outputs": [],
   "source": []
  },
  {
   "cell_type": "code",
   "execution_count": null,
   "metadata": {},
   "outputs": [],
   "source": []
  },
  {
   "cell_type": "code",
   "execution_count": null,
   "metadata": {},
   "outputs": [],
   "source": []
  },
  {
   "cell_type": "code",
   "execution_count": null,
   "metadata": {},
   "outputs": [],
   "source": []
  },
  {
   "cell_type": "code",
   "execution_count": null,
   "metadata": {},
   "outputs": [],
   "source": []
  },
  {
   "cell_type": "code",
   "execution_count": null,
   "metadata": {},
   "outputs": [],
   "source": []
  },
  {
   "cell_type": "code",
   "execution_count": null,
   "metadata": {},
   "outputs": [],
   "source": []
  },
  {
   "cell_type": "code",
   "execution_count": null,
   "metadata": {},
   "outputs": [],
   "source": [
    "print(ds.__dict__)"
   ]
  },
  {
   "cell_type": "code",
   "execution_count": null,
   "metadata": {},
   "outputs": [],
   "source": [
    "### Look at what dimensions are available\n",
    "for dim in ds.dimensions.values():\n",
    "    print(dim)"
   ]
  },
  {
   "cell_type": "code",
   "execution_count": null,
   "metadata": {
    "scrolled": true
   },
   "outputs": [],
   "source": [
    "### Look at what variables are available\n",
    "### Use vars(var) to see __dict__ attribute for the object\n",
    "### Use dir(var) to get all class attributes, one such attribute is _name\n",
    "for var in ds.variables.values():\n",
    "     print(var._name)"
   ]
  },
  {
   "cell_type": "code",
   "execution_count": null,
   "metadata": {},
   "outputs": [],
   "source": [
    "ds.variables['age_iso'], ds.variables['num_age_iso']"
   ]
  },
  {
   "cell_type": "code",
   "execution_count": null,
   "metadata": {},
   "outputs": [],
   "source": [
    "np.max(ds.variables['age_norm'][:]), np.min(ds.variables['age_norm'][:])"
   ]
  },
  {
   "cell_type": "code",
   "execution_count": null,
   "metadata": {},
   "outputs": [],
   "source": [
    "np.max(ds.variables['age_norm_uncert'][:]), np.min(ds.variables['age_norm_uncert'][:])"
   ]
  },
  {
   "cell_type": "code",
   "execution_count": null,
   "metadata": {},
   "outputs": [],
   "source": [
    "ds.variables['age_norm'][:,700,1300]"
   ]
  },
  {
   "cell_type": "code",
   "execution_count": null,
   "metadata": {},
   "outputs": [],
   "source": [
    "ds.variables['age_norm_uncert'][:,700,1300]"
   ]
  },
  {
   "cell_type": "code",
   "execution_count": null,
   "metadata": {
    "scrolled": false
   },
   "outputs": [],
   "source": [
    "ds.variables['num_depth_norm'], ds.variables['depth_norm']"
   ]
  },
  {
   "cell_type": "code",
   "execution_count": null,
   "metadata": {},
   "outputs": [],
   "source": [
    "ds.variables['thick']"
   ]
  },
  {
   "cell_type": "code",
   "execution_count": null,
   "metadata": {},
   "outputs": [],
   "source": [
    "ds.variables['age_norm'], ds.variables['age_norm_uncert']"
   ]
  },
  {
   "cell_type": "code",
   "execution_count": null,
   "metadata": {},
   "outputs": [],
   "source": [
    "%matplotlib inline\n",
    "### Plot age\n",
    "age_layer_number = 0\n",
    "x = ds.variables['x'][:][:,0]\n",
    "y = ds.variables['y'][:][0,:]\n",
    "age = ds.variables['age_norm'][:][age_layer_number,:,:]\n",
    "\n",
    "#plt.rcParams['figure.figsize'] = [15, 15]\n",
    "plt.contourf(x,y,age.T)\n",
    "plt.colorbar()\n",
    "plt.title(\"Age contour on a horizontal slice number \" + str(age_layer_number))\n",
    "plt.show()"
   ]
  },
  {
   "cell_type": "code",
   "execution_count": null,
   "metadata": {},
   "outputs": [],
   "source": [
    "### Depth of an iscohrone provided in the data\n",
    "isochrone_number = 0\n",
    "x = ds.variables['x'][:][:,0]\n",
    "y = ds.variables['y'][:][0,:]\n",
    "depth_iso = ds.variables['depth_iso'][:][isochrone_number,:,:]\n",
    "age_iso = ds.variables['age_iso'][:][isochrone_number]\n",
    "\n",
    "plt.contourf(x,y,depth_iso.T)\n",
    "plt.colorbar()\n",
    "plt.title(\"Depth of an isochrone number \" + str(isochrone_number) + \" of age \" + str(age_iso))\n",
    "plt.show()"
   ]
  },
  {
   "cell_type": "code",
   "execution_count": null,
   "metadata": {},
   "outputs": [],
   "source": [
    "### Depth uncertainty of an iscohrone provided in the data\n",
    "x = ds.variables['x'][:][:,0]\n",
    "y = ds.variables['y'][:][0,:]\n",
    "depth_iso_uncert = ds.variables['depth_iso_uncert'][:][isochrone_number,:,:]\n",
    "\n",
    "plt.contourf(x,y,depth_iso_uncert.T)\n",
    "plt.colorbar()\n",
    "plt.title(\"Depth uncertainty of an isochrone number \" + str(isochrone_number) + \" of age \" + str(age_iso))\n",
    "plt.show()"
   ]
  },
  {
   "cell_type": "code",
   "execution_count": null,
   "metadata": {},
   "outputs": [],
   "source": [
    "x = ds.variables['x'][:][:,0]\n",
    "y = ds.variables['y'][:][0,:]\n",
    "h = ds.variables['thick'][:][:,:]\n",
    "\n",
    "plt.contourf(x,y,h.T)\n",
    "plt.colorbar()\n",
    "plt.title(\"Ice thickness\")\n",
    "plt.show()"
   ]
  },
  {
   "cell_type": "code",
   "execution_count": null,
   "metadata": {},
   "outputs": [],
   "source": [
    "### Reading a netcdf file\n",
    "\n",
    "df = nc.Dataset('v5_grl20_ss25ka0003.nc')\n",
    "\n",
    "zb = np.asarray(df.variables['zb'])"
   ]
  },
  {
   "cell_type": "code",
   "execution_count": null,
   "metadata": {},
   "outputs": [],
   "source": [
    "from scipy.spatial import distance\n",
    "\n",
    "def closest_point(modelpoint, datapoints):\n",
    "    closest_index = distance.cdist([modelpoint], datapoints).argmin()\n",
    "    return datapoints[closest_index], closest_index"
   ]
  },
  {
   "cell_type": "code",
   "execution_count": null,
   "metadata": {},
   "outputs": [],
   "source": [
    "import matplotlib.pyplot as plt\n",
    "from shapely.geometry import Point\n",
    "from shapely.geometry.polygon import Polygon\n",
    "polygon = Polygon([(0, -3250000), (100000,-3250000), (250000, -2900000), (800000,-2200000), (550000,-1000000), (200000, -700000),(0, -720000),(-300000, -900000),(-550000, -1200000), (-250000, -2500000), (-280000, -2900000), (-200000, -3100000)])"
   ]
  },
  {
   "cell_type": "code",
   "execution_count": null,
   "metadata": {},
   "outputs": [],
   "source": [
    "def get_nearest_index(component, grid_component, level = 1):\n",
    "    indices = []\n",
    "    ii = np.argmin(np.abs(component - grid_component))\n",
    "\n",
    "    if ii == 0 and component < grid_component[0]:\n",
    "\n",
    "        indices.append(0)\n",
    "    elif ii == len(grid_component) - 1 and component > grid_component[-1]:\n",
    "\n",
    "        indices.append(len(grid_component) - 1)\n",
    "        \n",
    "    elif ii > len(grid_component) - 1 - level:\n",
    "\n",
    "        for j in range(-level, 1):\n",
    "            indices.append(ii + j)\n",
    "        for j in range(ii+1, len(grid_component)):\n",
    "            indices.append(j)\n",
    "        \n",
    "    elif ii < level:\n",
    "\n",
    "        for j in range(ii):\n",
    "            indices.append(j)\n",
    "        for j in range(level+1):\n",
    "            indices.append(ii + j)\n",
    "            \n",
    "    else:\n",
    "        \n",
    "        for j in range(-level, level+1):\n",
    "            indices.append(ii + j)      \n",
    "    \n",
    "    return indices\n",
    "\n",
    "def nearest_neighbor_interpolation_one_point(point, x_datagrid, y_datagrid, h_datagrid, field):\n",
    "    point_polygon_datastructure = Point(point[2], point[1])\n",
    "\n",
    "    if polygon.contains(point_polygon_datastructure):\n",
    "        \n",
    "        x_indexes = get_nearest_index(point[2], x_datagrid)\n",
    "        y_indexes = get_nearest_index(point[1], y_datagrid)\n",
    "\n",
    "        list_of_points_to_check = []\n",
    "        values = []\n",
    "\n",
    "        for xi in x_indexes:\n",
    "            for yi in y_indexes:\n",
    "\n",
    "                z_indexes = get_nearest_index(point[0], h_datagrid[xi, yi]*np.arange(25)/24)\n",
    "\n",
    "                for zi in z_indexes:\n",
    "\n",
    "                    if ~np.isnan(field[zi, xi, yi]):\n",
    "                        list_of_points_to_check.append(np.array([h_datagrid[xi, yi]*zi/24, y_datagrid[yi], x_datagrid[xi]]))\n",
    "                        values.append(field[zi, xi, yi])\n",
    "\n",
    "        if list_of_points_to_check:\n",
    "\n",
    "            nearest_point, index = closest_point(point, list_of_points_to_check)\n",
    "            return values[index]\n",
    "\n",
    "        else: \n",
    "\n",
    "            x_indexes = get_nearest_index(point[2], x_datagrid, level = 5)\n",
    "            y_indexes = get_nearest_index(point[1], y_datagrid, level = 5)\n",
    "\n",
    "            list_of_points_to_check = []\n",
    "            values = []\n",
    "\n",
    "            for xi in x_indexes:\n",
    "                for yi in y_indexes:\n",
    "\n",
    "                    z_indexes = get_nearest_index(point[0], h_datagrid[xi, yi]*np.arange(25)/24, level = 5)\n",
    "\n",
    "                    for zi in z_indexes:\n",
    "\n",
    "                        if ~np.isnan(field[zi, xi, yi]):\n",
    "                            list_of_points_to_check.append(np.array([h_datagrid[xi, yi]*zi/24, y_datagrid[yi], x_datagrid[xi]]))\n",
    "                            values.append(field[zi, xi, yi])\n",
    "\n",
    "            if list_of_points_to_check:\n",
    "\n",
    "                nearest_point, index = closest_point(point, list_of_points_to_check)\n",
    "                return values[index]\n",
    "\n",
    "            else:\n",
    "                return np.nan\n",
    "    \n",
    "    else: return np.nan"
   ]
  },
  {
   "cell_type": "code",
   "execution_count": null,
   "metadata": {},
   "outputs": [],
   "source": [
    "### Reading a netcdf file\n",
    "\n",
    "df = nc.Dataset('v5_grl20_ss25ka0003.nc')\n",
    "\n",
    "for var in df.variables.values():\n",
    "    print(var)"
   ]
  },
  {
   "cell_type": "code",
   "execution_count": null,
   "metadata": {},
   "outputs": [],
   "source": [
    "df"
   ]
  },
  {
   "cell_type": "code",
   "execution_count": null,
   "metadata": {},
   "outputs": [],
   "source": [
    "x = ds.variables['x'][:][:,0]*1000\n",
    "y = ds.variables['y'][:][0,:]*1000\n",
    "h = ds.variables['thick'][:][:,:]\n",
    "age = ds.variables['age_norm'][:][:,:,:]"
   ]
  },
  {
   "cell_type": "code",
   "execution_count": null,
   "metadata": {},
   "outputs": [],
   "source": [
    "zb = np.asarray(df.variables['zb'])\n",
    "H_t = np.asarray(df.variables['H_temp'])\n",
    "H_c = np.asarray(df.variables['H_cold'])\n",
    "H = np.asarray(df.variables['H'])\n",
    "zs = np.asarray(df.variables['zs'])\n",
    "age_c = np.asarray(df.variables['age_c'])\n",
    "age_t = np.asarray(df.variables['age_t'])\n",
    "x_model = np.asarray(df.variables['x'])\n",
    "y_model = np.asarray(df.variables['y'])\n",
    "maske = np.asarray(df.variables['maske'])\n",
    "maske_old = np.asarray(df.variables['maske_old'])\n",
    "tau_b_driving = np.asarray(df.variables['tau_b_driving'])\n",
    "tau_b_drag = np.asarray(df.variables['tau_b_drag'])\n",
    "snowfall = np.asarray(df.variables['snowfall'])\n",
    "temp_s = np.asarray(df.variables['temp_s'])\n",
    "temp_maat = np.asarray(df.variables['temp_maat'])\n",
    "prec = np.asarray(df.variables['prec'])\n",
    "rainfall = np.asarray(df.variables['rainfall'])\n",
    "vx_c = np.asarray(df.variables['vx_c'])\n"
   ]
  },
  {
   "cell_type": "code",
   "execution_count": null,
   "metadata": {},
   "outputs": [],
   "source": [
    "age_data_interp = np.zeros((age_c.shape[0]+age_t.shape[0]-1, len(y_model), len(x_model)))\n",
    "z_model_grid = np.zeros((age_c.shape[0]+age_t.shape[0]-1, len(y_model), len(x_model)))"
   ]
  },
  {
   "cell_type": "code",
   "execution_count": null,
   "metadata": {},
   "outputs": [],
   "source": [
    "count = 0 \n",
    "for i in range(age_data_interp.shape[0]):\n",
    "    for j in range(len(y_model)):\n",
    "        for k in range(len(x_model)):\n",
    "            if (i < age_t.shape[0]):\n",
    "                z = H_t[j,k]*i/(age_t.shape[0]-1)\n",
    "            else:\n",
    "                z = H_t[j,k] + H_c[j,k]* (i-age_t.shape[0]+1)/(age_c.shape[0]-1) \n",
    "                \n",
    "            z_model_grid[i,j,k] = z\n",
    "            count = count + 1\n",
    "            if (count % 100000 == 0):\n",
    "                print(count)\n",
    "            age_data_interp[i,j,k] = nearest_neighbor_interpolation_one_point([z, y_model[j], x_model[k]], x, y, h, age[::-1])"
   ]
  },
  {
   "cell_type": "code",
   "execution_count": null,
   "metadata": {},
   "outputs": [],
   "source": [
    "# 288834\n",
    "np.count_nonzero(~np.isnan(age_data_interp))"
   ]
  },
  {
   "cell_type": "code",
   "execution_count": null,
   "metadata": {},
   "outputs": [],
   "source": [
    "plt.rcParams['figure.figsize'] = [20,12]\n",
    "fig, ax = plt.subplots(1,2)\n",
    "x_poly, y_poly = polygon.exterior.xy\n",
    "\n",
    "ax[0].plot(x_poly,y_poly)\n",
    "ax[0].contourf(x, y, h.T)\n",
    "ax[0].set_title(\"Data ice thickness\")\n",
    "#ax[0].colorbar()\n",
    "\n",
    "ax[1].plot(x_poly,y_poly)\n",
    "ax[1].contourf(x_model, y_model, z_model_grid[-1])\n",
    "ax[1].set_title(\"Model ice thickness\")\n",
    "#ax[1].colorbar()"
   ]
  },
  {
   "cell_type": "code",
   "execution_count": null,
   "metadata": {},
   "outputs": [],
   "source": [
    "plt.rcParams['figure.figsize'] = [20,12]\n",
    "fig, ax = plt.subplots(1,2)\n",
    "x_poly, y_poly = polygon.exterior.xy\n",
    "\n",
    "layer = 15\n",
    "x_poly, y_poly = polygon.exterior.xy\n",
    "age = ds.variables['age_norm'][:][layer,:,:]\n",
    "ax[0].plot(x_poly,y_poly)\n",
    "ax[0].contourf(x, y, age.T)\n",
    "ax[0].set_title(f\"Data ice age layer {layer}\")\n",
    "#ax[0].colorbar()\n",
    "\n",
    "ax[1].plot(x_poly,y_poly)\n",
    "ax[1].contourf(x_model, y_model, age_c[cold_ice_layer,:,:])\n",
    "#ax[1].colorbar()\n",
    "ax[1].set_title(f\"Model age cold ice layer {cold_ice_layer}\")"
   ]
  },
  {
   "cell_type": "code",
   "execution_count": null,
   "metadata": {},
   "outputs": [],
   "source": [
    "plt.rcParams['figure.figsize'] = [12,12]\n",
    "layer = 0\n",
    "x_poly, y_poly = polygon.exterior.xy\n",
    "age = ds.variables['age_norm'][:][layer,:,:]\n",
    "plt.plot(x_poly,y_poly)\n",
    "plt.contourf(x, y, age.T)\n",
    "plt.title(f\"Data ice age layer {layer}\")\n",
    "plt.colorbar()"
   ]
  },
  {
   "cell_type": "code",
   "execution_count": null,
   "metadata": {},
   "outputs": [],
   "source": [
    "plt.rcParams['figure.figsize'] = [12,12]\n",
    "layer = -1\n",
    "x_poly, y_poly = polygon.exterior.xy\n",
    "age = ds.variables['age_norm'][:][layer,:,:]\n",
    "plt.plot(x_poly,y_poly)\n",
    "plt.contourf(x, y, age.T)\n",
    "plt.title(f\"Data ice age layer {layer}\")\n",
    "plt.colorbar()"
   ]
  },
  {
   "cell_type": "code",
   "execution_count": null,
   "metadata": {},
   "outputs": [],
   "source": [
    "layer = 0\n",
    "x_poly, y_poly = polygon.exterior.xy\n",
    "plt.plot(x_poly,y_poly)\n",
    "plt.contourf(x_model,y_model,age_data_interp[layer,:,:])\n",
    "plt.title(f\"Interpolated age layer {layer}\")\n",
    "plt.colorbar()\n",
    "plt.show()"
   ]
  },
  {
   "cell_type": "code",
   "execution_count": null,
   "metadata": {},
   "outputs": [],
   "source": [
    "layer = 45\n",
    "x_poly, y_poly = polygon.exterior.xy\n",
    "plt.plot(x_poly,y_poly)\n",
    "plt.contourf(x_model,y_model,age_data_interp[layer,:,:])\n",
    "plt.title(f\"Interpolated age layer {layer}\")\n",
    "plt.colorbar()\n",
    "plt.show()"
   ]
  },
  {
   "cell_type": "code",
   "execution_count": null,
   "metadata": {},
   "outputs": [],
   "source": [
    "x_poly, y_poly = polygon.exterior.xy\n",
    "plt.plot(x_poly,y_poly)\n",
    "plt.contourf(x_model, y_model, maske)\n",
    "plt.title(\"Model maske\")\n",
    "plt.colorbar()"
   ]
  },
  {
   "cell_type": "code",
   "execution_count": null,
   "metadata": {},
   "outputs": [],
   "source": [
    "x_poly, y_poly = polygon.exterior.xy\n",
    "plt.plot(x_poly,y_poly)\n",
    "plt.contourf(x_model, y_model, tau_b_drag)\n",
    "plt.title(\"Model tau drag\")\n",
    "plt.colorbar()"
   ]
  },
  {
   "cell_type": "code",
   "execution_count": null,
   "metadata": {},
   "outputs": [],
   "source": [
    "x_poly, y_poly = polygon.exterior.xy\n",
    "plt.plot(x_poly,y_poly)\n",
    "plt.contourf(x_model, y_model, snowfall)\n",
    "plt.title(\"Model snowfall\")\n",
    "plt.colorbar()"
   ]
  },
  {
   "cell_type": "code",
   "execution_count": null,
   "metadata": {},
   "outputs": [],
   "source": [
    "x_poly, y_poly = polygon.exterior.xy\n",
    "plt.plot(x_poly,y_poly)\n",
    "plt.contourf(x_model, y_model, rainfall)\n",
    "plt.title(\"Model rainfall\")\n",
    "plt.colorbar()"
   ]
  },
  {
   "cell_type": "code",
   "execution_count": null,
   "metadata": {},
   "outputs": [],
   "source": [
    "x_poly, y_poly = polygon.exterior.xy\n",
    "plt.plot(x_poly,y_poly)\n",
    "plt.contourf(x_model, y_model, prec)\n",
    "plt.title(\"Model prec\")\n",
    "plt.colorbar()"
   ]
  },
  {
   "cell_type": "code",
   "execution_count": null,
   "metadata": {},
   "outputs": [],
   "source": [
    "x_poly, y_poly = polygon.exterior.xy\n",
    "plt.plot(x_poly,y_poly)\n",
    "plt.contourf(x_model, y_model, temp_maat)\n",
    "plt.title(\"Model mean annual air temperature\")\n",
    "plt.colorbar()"
   ]
  },
  {
   "cell_type": "code",
   "execution_count": null,
   "metadata": {},
   "outputs": [],
   "source": [
    "x_poly, y_poly = polygon.exterior.xy\n",
    "plt.plot(x_poly,y_poly)\n",
    "plt.contourf(x_model, y_model, temp_s)\n",
    "plt.title(\"Model surface temperature\")\n",
    "plt.colorbar()"
   ]
  },
  {
   "cell_type": "code",
   "execution_count": null,
   "metadata": {},
   "outputs": [],
   "source": [
    "x_poly, y_poly = polygon.exterior.xy\n",
    "plt.plot(x_poly,y_poly)\n",
    "plt.contourf(x_model, y_model, H_c)\n",
    "plt.title(\"Model surface temperature\")\n",
    "plt.colorbar()\n",
    "\n",
    "np.max(H_c)"
   ]
  },
  {
   "cell_type": "code",
   "execution_count": null,
   "metadata": {},
   "outputs": [],
   "source": [
    "x_poly, y_poly = polygon.exterior.xy\n",
    "plt.plot(x_poly,y_poly)\n",
    "plt.contourf(x_model, y_model, np.log(np.abs(vx_c[24])), levels = 50)\n",
    "plt.title(\"Model x velocity\")\n",
    "plt.colorbar()\n",
    "np.max(vx_c[40])"
   ]
  },
  {
   "cell_type": "code",
   "execution_count": null,
   "metadata": {},
   "outputs": [],
   "source": [
    "import numpy as np \n",
    "import matplotlib.pyplot as plt \n",
    "from matplotlib import cm\n",
    "from mpl_toolkits.axes_grid1 import make_axes_locatable\n",
    "\n",
    "\n",
    "def get_cmap_rgb(cmap, n_colors=256):\n",
    "    \"\"\"Enter a matplotlib colormap name, return rgb array\n",
    "    Parameters\n",
    "    ----------\n",
    "    cmap : str or colormap object\n",
    "        if matplotlib color, should be string to make sure\n",
    "        n_colors is selected correctly. If cmocean, pass the object\n",
    "        e.g.\n",
    "            matplotlib :  get_cmap_rgb('viridis',10)\n",
    "            cmocean : get_cmap_rgb(cmocean.cm.thermal,10)\n",
    "    n_colors : int, optional\n",
    "        number of color levels in color map\n",
    "    \"\"\"\n",
    "\n",
    "    return cm.get_cmap(cmap,n_colors)(range(n_colors))\n",
    "\n",
    "def plot_normal(x, y, data, \n",
    "\t\t\t\tcmap = 'RdBu', nbins = 100, \n",
    "\t\t\t\tfig= None, ax=None,\n",
    "\t\t\t\tcbar_label = None, \n",
    "\t\t\t\t**kwargs):\n",
    "\t\n",
    "\t\"\"\"\n",
    "\tx : 1D array of x-axis co-ordinates\n",
    "\ty : 1D array of y-axis co-ordinates\n",
    "\tdata : The field that gets plotted, a 2D array\n",
    "\tfig : matplotlib.figure, optional\n",
    "    ax : matplotlib.axes, optional\n",
    "        to make plot at\n",
    "    cmap : str, optional\n",
    "        specifies colormap\n",
    "    cbar_label : str, optional\n",
    "        label for colorbar, default grabs units from DataArray\n",
    "    kwargs\n",
    "        passed to matpotlib.pyplot.contourf\n",
    "    Returns\n",
    "    -------\n",
    "    ax : matplotlib.axes\n",
    "        if one is not provided\n",
    "    \"\"\"\n",
    "\n",
    "\treturn_ax = False\n",
    "\tif ax is None:\n",
    "\t\tfig, ax = plt.subplots()\n",
    "\t\treturn_ax = True\n",
    "\n",
    "\t### fig is like the paper\n",
    "\t### ax is like a particular figure on a paper\n",
    "\t### when you use plt.plot() it implicitly creates a figure and axis by itself. \n",
    "\t\n",
    "\tim = ax.contourf(x, y, data, nbins, cmap = plt.set_cmap(cmap), **kwargs)\n",
    "\n",
    "\t### Locate ax and apend axis cax to it\n",
    "\tdivider = make_axes_locatable(ax)\n",
    "\tcax = divider.append_axes('right', size='5%', pad=0.05)\n",
    "\n",
    "\t### Mount colorbar on cax\n",
    "\tfig.colorbar(im, cax=cax)\n",
    "\n",
    "\tif return_ax:\n",
    "\t\treturn ax\n",
    "\n",
    "def plot_log(x, y, data, \n",
    "\t\t\tnbins=None, bin_edges=None,\n",
    "\t\t\tcmap = 'RdBu_r', \n",
    "\t\t\tfig= None, ax=None,\n",
    "\t\t\tcbar_label = None, \n",
    "\t\t\t**kwargs):\n",
    "\n",
    "\t\"\"\"\n",
    "\tx : 1D array of x-axis co-ordinates\n",
    "\ty : 1D array of y-axis co-ordinates\n",
    "\tdata : The field that gets plotted, a 2D array\n",
    "    nbins : int, optional\n",
    "        number of colored bin (centers) positive and negative values\n",
    "        i.e. we get 2*nbins+1, bins. one is neutral (middle)\n",
    "    bin_edges : array-like, optional\n",
    "        exclusive with nbins, specify bin edges (positive only)\n",
    "    fig : matplotlib.figure, optional\n",
    "    ax : matplotlib.axes, optional\n",
    "        to make plot at\n",
    "    cmap : str, optional\n",
    "        specifies colormap\n",
    "    cbar_label : str, optional\n",
    "        label for colorbar, default grabs units from DataArray\n",
    "    kwargs\n",
    "        passed to matpotlib.pyplot.contourf\n",
    "    Returns\n",
    "    -------\n",
    "    ax : matplotlib.axes\n",
    "        if one is not provided\n",
    "    \"\"\"\n",
    "\n",
    "\treturn_ax = False\n",
    "\tif ax is None:\n",
    "\t\tfig, ax = plt.subplots()\n",
    "\t\treturn_ax = True\t\n",
    "\tif nbins is not None and bin_edges is not None:\n",
    "\t\traise TypeError('one or the other')\n",
    "\n",
    "\tlog = np.log10(np.abs(data))\n",
    "\tlog = np.where((~np.isnan(log)) & (~np.isinf(log)), log, 0.)\n",
    "    \n",
    "\tif nbins is not None:\n",
    "\t\t_,bin_edges = np.histogram(log,bins=nbins)\n",
    "\telse:\n",
    "\t\tnbins = len(bin_edges)-1\n",
    "\n",
    "\tlogbins=np.round(bin_edges)\n",
    "\n",
    "\t# determine if colorbar will be extended\n",
    "\tmaxExtend = np.any((data>10**logbins[-1]))\n",
    "\tminExtend = np.any((data<-10**logbins[-1]))\n",
    "\textend='neither'\n",
    "\tif minExtend and maxExtend:\n",
    "\t    extend='both'\n",
    "\telif maxExtend:\n",
    "\t    extend='max'\n",
    "\telif minExtend:\n",
    "\t    extend='min'\n",
    "\t# determine number of colors, adding one for each extension\n",
    "\t# and always one extra, the middle color bin\n",
    "\tncolors=2*nbins+1\n",
    "\tncolors = ncolors+1 if maxExtend else ncolors\n",
    "\tncolors = ncolors+1 if minExtend else ncolors\n",
    "\t# if only one end is extended,\n",
    "\t# chop off the extreme value from the other end to fit\n",
    "\t# in the middle (neutral) colorbin\n",
    "\tif extend in ['min' ,'max']:\n",
    "\t\tcmap = get_cmap_rgb(cmap,ncolors+1)\n",
    "\t\tbot =  np.arange(1,nbins+1) if extend=='max' else np.arange(0,nbins+1)\n",
    "\t\ttop = np.arange(ncolors-nbins,ncolors) if extend=='min' else np.arange(ncolors-nbins,ncolors+1)\n",
    "\t\tindex = list(bot)+[nbins+1]+list(top)\n",
    "\t\tcmap = cmap[index,:]\n",
    "\telse:\n",
    "\t\tcmap=get_cmap_rgb(cmap,ncolors)\n",
    "\n",
    "\t# levels and plot\n",
    "\tlevels=10**logbins\n",
    "\tlevels = np.concatenate([-levels[::-1],levels],axis=0)\n",
    "\tim=ax.contourf(x, y, data, levels=levels, colors=cmap, extend=extend, **kwargs)\n",
    "\n",
    "\t### Locate ax and apend axis cax to it\n",
    "\tdivider = make_axes_locatable(ax)\n",
    "\tcax = divider.append_axes('right', size='5%', pad=0.05)\n",
    "\n",
    "\t### Mount colorbar on cax\n",
    "\tcolorbar = fig.colorbar(im, cax=cax)\n",
    "\n",
    "\tif cbar_label is not None:\n",
    "\t\tcolorbar.set_label(str(cbar_label))\n",
    "\telse:\n",
    "\t\tcolorbar.set_label(\"Color scheme\")\n",
    "\n",
    "\tticklabels = [f'-10^{b:.0f}' for b in logbins[::-1]]\n",
    "\tticklabels += [f'10^{b:.0f}' for b in logbins]\n",
    "\tcolorbar.set_ticklabels(ticklabels)\n",
    "\n",
    "\tif return_ax:\n",
    "\t\treturn ax\n",
    "\n"
   ]
  },
  {
   "cell_type": "code",
   "execution_count": null,
   "metadata": {},
   "outputs": [],
   "source": [
    "plt.rcParams['figure.figsize'] = [12,12]\n",
    "fig, ax = plt.subplots()\n",
    "plot_normal(x_model,y_model,np.log(np.abs(vx_c[24])), nbins =15, fig = fig, ax = ax)"
   ]
  },
  {
   "cell_type": "code",
   "execution_count": null,
   "metadata": {},
   "outputs": [],
   "source": []
  }
 ],
 "metadata": {
  "kernelspec": {
   "display_name": "py38",
   "language": "python",
   "name": "py38"
  },
  "language_info": {
   "codemirror_mode": {
    "name": "ipython",
    "version": 3
   },
   "file_extension": ".py",
   "mimetype": "text/x-python",
   "name": "python",
   "nbconvert_exporter": "python",
   "pygments_lexer": "ipython3",
   "version": "3.8.10"
  }
 },
 "nbformat": 4,
 "nbformat_minor": 4
}
